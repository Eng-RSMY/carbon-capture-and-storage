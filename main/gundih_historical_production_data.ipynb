{
  "nbformat": 4,
  "nbformat_minor": 0,
  "metadata": {
    "colab": {
      "name": "gundih-historical-production-data.ipynb",
      "provenance": [],
      "collapsed_sections": [],
      "authorship_tag": "ABX9TyNk9pF2SfMoe51DMIej/yEH",
      "include_colab_link": true
    },
    "kernelspec": {
      "name": "python3",
      "display_name": "Python 3"
    }
  },
  "cells": [
    {
      "cell_type": "markdown",
      "metadata": {
        "id": "view-in-github",
        "colab_type": "text"
      },
      "source": [
        "<a href=\"https://colab.research.google.com/github/yohanesnuwara/ccs-gundih/blob/master/main/gundih_historical_production_data.ipynb\" target=\"_parent\"><img src=\"https://colab.research.google.com/assets/colab-badge.svg\" alt=\"Open In Colab\"/></a>"
      ]
    },
    {
      "cell_type": "code",
      "metadata": {
        "id": "qYqxJ2WKsPrU",
        "colab_type": "code",
        "colab": {}
      },
      "source": [
        "import numpy as np\n",
        "import matplotlib.pyplot as plt\n",
        "import pandas as pd"
      ],
      "execution_count": 0,
      "outputs": []
    },
    {
      "cell_type": "code",
      "metadata": {
        "id": "vnnMPEZAsdpq",
        "colab_type": "code",
        "outputId": "f0983e9a-5429-4c8e-cff3-3abcc95a889b",
        "colab": {
          "base_uri": "https://localhost:8080/",
          "height": 134
        }
      },
      "source": [
        "!git clone https://github.com/yohanesnuwara/ccs-gundih"
      ],
      "execution_count": 0,
      "outputs": [
        {
          "output_type": "stream",
          "text": [
            "Cloning into 'ccs-gundih'...\n",
            "remote: Enumerating objects: 94, done.\u001b[K\n",
            "remote: Counting objects:   1% (1/94)\u001b[K\rremote: Counting objects:   2% (2/94)\u001b[K\rremote: Counting objects:   3% (3/94)\u001b[K\rremote: Counting objects:   4% (4/94)\u001b[K\rremote: Counting objects:   5% (5/94)\u001b[K\rremote: Counting objects:   6% (6/94)\u001b[K\rremote: Counting objects:   7% (7/94)\u001b[K\rremote: Counting objects:   8% (8/94)\u001b[K\rremote: Counting objects:   9% (9/94)\u001b[K\rremote: Counting objects:  10% (10/94)\u001b[K\rremote: Counting objects:  11% (11/94)\u001b[K\rremote: Counting objects:  12% (12/94)\u001b[K\rremote: Counting objects:  13% (13/94)\u001b[K\rremote: Counting objects:  14% (14/94)\u001b[K\rremote: Counting objects:  15% (15/94)\u001b[K\rremote: Counting objects:  17% (16/94)\u001b[K\rremote: Counting objects:  18% (17/94)\u001b[K\rremote: Counting objects:  19% (18/94)\u001b[K\rremote: Counting objects:  20% (19/94)\u001b[K\rremote: Counting objects:  21% (20/94)\u001b[K\rremote: Counting objects:  22% (21/94)\u001b[K\rremote: Counting objects:  23% (22/94)\u001b[K\rremote: Counting objects:  24% (23/94)\u001b[K\rremote: Counting objects:  25% (24/94)\u001b[K\rremote: Counting objects:  26% (25/94)\u001b[K\rremote: Counting objects:  27% (26/94)\u001b[K\rremote: Counting objects:  28% (27/94)\u001b[K\rremote: Counting objects:  29% (28/94)\u001b[K\rremote: Counting objects:  30% (29/94)\u001b[K\rremote: Counting objects:  31% (30/94)\u001b[K\rremote: Counting objects:  32% (31/94)\u001b[K\rremote: Counting objects:  34% (32/94)\u001b[K\rremote: Counting objects:  35% (33/94)\u001b[K\rremote: Counting objects:  36% (34/94)\u001b[K\rremote: Counting objects:  37% (35/94)\u001b[K\rremote: Counting objects:  38% (36/94)\u001b[K\rremote: Counting objects:  39% (37/94)\u001b[K\rremote: Counting objects:  40% (38/94)\u001b[K\rremote: Counting objects:  41% (39/94)\u001b[K\rremote: Counting objects:  42% (40/94)\u001b[K\rremote: Counting objects:  43% (41/94)\u001b[K\rremote: Counting objects:  44% (42/94)\u001b[K\rremote: Counting objects:  45% (43/94)\u001b[K\rremote: Counting objects:  46% (44/94)\u001b[K\rremote: Counting objects:  47% (45/94)\u001b[K\rremote: Counting objects:  48% (46/94)\u001b[K\rremote: Counting objects:  50% (47/94)\u001b[K\rremote: Counting objects:  51% (48/94)\u001b[K\rremote: Counting objects:  52% (49/94)\u001b[K\rremote: Counting objects:  53% (50/94)\u001b[K\rremote: Counting objects:  54% (51/94)\u001b[K\rremote: Counting objects:  55% (52/94)\u001b[K\rremote: Counting objects:  56% (53/94)\u001b[K\rremote: Counting objects:  57% (54/94)\u001b[K\rremote: Counting objects:  58% (55/94)\u001b[K\rremote: Counting objects:  59% (56/94)\u001b[K\rremote: Counting objects:  60% (57/94)\u001b[K\rremote: Counting objects:  61% (58/94)\u001b[K\rremote: Counting objects:  62% (59/94)\u001b[K\rremote: Counting objects:  63% (60/94)\u001b[K\rremote: Counting objects:  64% (61/94)\u001b[K\rremote: Counting objects:  65% (62/94)\u001b[K\rremote: Counting objects:  67% (63/94)\u001b[K\rremote: Counting objects:  68% (64/94)\u001b[K\rremote: Counting objects:  69% (65/94)\u001b[K\rremote: Counting objects:  70% (66/94)\u001b[K\rremote: Counting objects:  71% (67/94)\u001b[K\rremote: Counting objects:  72% (68/94)\u001b[K\rremote: Counting objects:  73% (69/94)\u001b[K\rremote: Counting objects:  74% (70/94)\u001b[K\rremote: Counting objects:  75% (71/94)\u001b[K\rremote: Counting objects:  76% (72/94)\u001b[K\rremote: Counting objects:  77% (73/94)\u001b[K\rremote: Counting objects:  78% (74/94)\u001b[K\rremote: Counting objects:  79% (75/94)\u001b[K\rremote: Counting objects:  80% (76/94)\u001b[K\rremote: Counting objects:  81% (77/94)\u001b[K\rremote: Counting objects:  82% (78/94)\u001b[K\rremote: Counting objects:  84% (79/94)\u001b[K\rremote: Counting objects:  85% (80/94)\u001b[K\rremote: Counting objects:  86% (81/94)\u001b[K\rremote: Counting objects:  87% (82/94)\u001b[K\rremote: Counting objects:  88% (83/94)\u001b[K\rremote: Counting objects:  89% (84/94)\u001b[K\rremote: Counting objects:  90% (85/94)\u001b[K\rremote: Counting objects:  91% (86/94)\u001b[K\rremote: Counting objects:  92% (87/94)\u001b[K\rremote: Counting objects:  93% (88/94)\u001b[K\rremote: Counting objects:  94% (89/94)\u001b[K\rremote: Counting objects:  95% (90/94)\u001b[K\rremote: Counting objects:  96% (91/94)\u001b[K\rremote: Counting objects:  97% (92/94)\u001b[K\rremote: Counting objects:  98% (93/94)\u001b[K\rremote: Counting objects: 100% (94/94)\u001b[K\rremote: Counting objects: 100% (94/94), done.\u001b[K\n",
            "remote: Compressing objects: 100% (94/94), done.\u001b[K\n",
            "remote: Total 259 (delta 55), reused 0 (delta 0), pack-reused 165\u001b[K\n",
            "Receiving objects: 100% (259/259), 14.37 MiB | 26.09 MiB/s, done.\n",
            "Resolving deltas: 100% (136/136), done.\n"
          ],
          "name": "stdout"
        }
      ]
    },
    {
      "cell_type": "markdown",
      "metadata": {
        "id": "vLdXwX10IVbj",
        "colab_type": "text"
      },
      "source": [
        "# Visualize the Historical Production Data"
      ]
    },
    {
      "cell_type": "code",
      "metadata": {
        "id": "RYzXmnbisnB_",
        "colab_type": "code",
        "colab": {}
      },
      "source": [
        "# Read simulation result\n",
        "\n",
        "col = np.array(['Date', 'Days', 'WSAT', 'OSAT', 'GSAT', 'GMT', 'OMR', 'GMR', 'GCDI', 'GCDM', 'WCD',\n",
        "              'WGR', 'WCT', 'VPR', 'VPT', 'VIR', 'VIT', 'WPR', 'OPR', 'GPR', 'WPT', 'OPT', 'GPT',\n",
        "              'PR', 'GIR', 'GIT', 'GOR'])\n",
        "\n",
        "case1 = pd.read_excel(r'/content/ccs-gundih/data/CASE_1.xlsx'); case1 = pd.DataFrame(case1, columns=col) #INJ-2, 15 MMSCFD, kv/kh = 0.1\n",
        "case2 = pd.read_excel(r'/content/ccs-gundih/data/CASE_2.xlsx'); case2 = pd.DataFrame(case2, columns=col) #INJ-2, 15 MMSCFD, kv/kh = 0.5"
      ],
      "execution_count": 0,
      "outputs": []
    },
    {
      "cell_type": "code",
      "metadata": {
        "id": "LBGgpXZ5tFV7",
        "colab_type": "code",
        "outputId": "6643afe8-5864-43c4-f4fd-5d7bdb3f40c4",
        "colab": {
          "base_uri": "https://localhost:8080/",
          "height": 300
        }
      },
      "source": [
        "case1.head(5)"
      ],
      "execution_count": 0,
      "outputs": [
        {
          "output_type": "execute_result",
          "data": {
            "text/html": [
              "<div>\n",
              "<style scoped>\n",
              "    .dataframe tbody tr th:only-of-type {\n",
              "        vertical-align: middle;\n",
              "    }\n",
              "\n",
              "    .dataframe tbody tr th {\n",
              "        vertical-align: top;\n",
              "    }\n",
              "\n",
              "    .dataframe thead th {\n",
              "        text-align: right;\n",
              "    }\n",
              "</style>\n",
              "<table border=\"1\" class=\"dataframe\">\n",
              "  <thead>\n",
              "    <tr style=\"text-align: right;\">\n",
              "      <th></th>\n",
              "      <th>Date</th>\n",
              "      <th>Days</th>\n",
              "      <th>WSAT</th>\n",
              "      <th>OSAT</th>\n",
              "      <th>GSAT</th>\n",
              "      <th>GMT</th>\n",
              "      <th>OMR</th>\n",
              "      <th>GMR</th>\n",
              "      <th>GCDI</th>\n",
              "      <th>GCDM</th>\n",
              "      <th>WCD</th>\n",
              "      <th>WGR</th>\n",
              "      <th>WCT</th>\n",
              "      <th>VPR</th>\n",
              "      <th>VPT</th>\n",
              "      <th>VIR</th>\n",
              "      <th>VIT</th>\n",
              "      <th>WPR</th>\n",
              "      <th>OPR</th>\n",
              "      <th>GPR</th>\n",
              "      <th>WPT</th>\n",
              "      <th>OPT</th>\n",
              "      <th>GPT</th>\n",
              "      <th>PR</th>\n",
              "      <th>GIR</th>\n",
              "      <th>GIT</th>\n",
              "      <th>GOR</th>\n",
              "    </tr>\n",
              "  </thead>\n",
              "  <tbody>\n",
              "    <tr>\n",
              "      <th>0</th>\n",
              "      <td>2014-05-08</td>\n",
              "      <td>0</td>\n",
              "      <td>0.860583</td>\n",
              "      <td>0.138924</td>\n",
              "      <td>0.000492</td>\n",
              "      <td>0.0</td>\n",
              "      <td>0.0</td>\n",
              "      <td>0.0</td>\n",
              "      <td>0</td>\n",
              "      <td>0</td>\n",
              "      <td>0</td>\n",
              "      <td>0.0</td>\n",
              "      <td>0.0</td>\n",
              "      <td>0.0</td>\n",
              "      <td>0.0</td>\n",
              "      <td>0.0</td>\n",
              "      <td>0.0</td>\n",
              "      <td>0.0</td>\n",
              "      <td>0.0</td>\n",
              "      <td>0.0</td>\n",
              "      <td>0.0</td>\n",
              "      <td>0.0</td>\n",
              "      <td>0.0</td>\n",
              "      <td>273.1314</td>\n",
              "      <td>0.0</td>\n",
              "      <td>0.0</td>\n",
              "      <td>0.0</td>\n",
              "    </tr>\n",
              "    <tr>\n",
              "      <th>1</th>\n",
              "      <td>2014-05-09</td>\n",
              "      <td>1</td>\n",
              "      <td>0.860583</td>\n",
              "      <td>0.138924</td>\n",
              "      <td>0.000492</td>\n",
              "      <td>0.0</td>\n",
              "      <td>0.0</td>\n",
              "      <td>0.0</td>\n",
              "      <td>0</td>\n",
              "      <td>0</td>\n",
              "      <td>0</td>\n",
              "      <td>0.0</td>\n",
              "      <td>0.0</td>\n",
              "      <td>0.0</td>\n",
              "      <td>0.0</td>\n",
              "      <td>0.0</td>\n",
              "      <td>0.0</td>\n",
              "      <td>0.0</td>\n",
              "      <td>0.0</td>\n",
              "      <td>0.0</td>\n",
              "      <td>0.0</td>\n",
              "      <td>0.0</td>\n",
              "      <td>0.0</td>\n",
              "      <td>273.1314</td>\n",
              "      <td>0.0</td>\n",
              "      <td>0.0</td>\n",
              "      <td>0.0</td>\n",
              "    </tr>\n",
              "    <tr>\n",
              "      <th>2</th>\n",
              "      <td>2014-05-10</td>\n",
              "      <td>2</td>\n",
              "      <td>0.860583</td>\n",
              "      <td>0.138924</td>\n",
              "      <td>0.000492</td>\n",
              "      <td>0.0</td>\n",
              "      <td>0.0</td>\n",
              "      <td>0.0</td>\n",
              "      <td>0</td>\n",
              "      <td>0</td>\n",
              "      <td>0</td>\n",
              "      <td>0.0</td>\n",
              "      <td>0.0</td>\n",
              "      <td>0.0</td>\n",
              "      <td>0.0</td>\n",
              "      <td>0.0</td>\n",
              "      <td>0.0</td>\n",
              "      <td>0.0</td>\n",
              "      <td>0.0</td>\n",
              "      <td>0.0</td>\n",
              "      <td>0.0</td>\n",
              "      <td>0.0</td>\n",
              "      <td>0.0</td>\n",
              "      <td>273.1314</td>\n",
              "      <td>0.0</td>\n",
              "      <td>0.0</td>\n",
              "      <td>0.0</td>\n",
              "    </tr>\n",
              "    <tr>\n",
              "      <th>3</th>\n",
              "      <td>2014-05-11</td>\n",
              "      <td>3</td>\n",
              "      <td>0.860583</td>\n",
              "      <td>0.138924</td>\n",
              "      <td>0.000492</td>\n",
              "      <td>0.0</td>\n",
              "      <td>0.0</td>\n",
              "      <td>0.0</td>\n",
              "      <td>0</td>\n",
              "      <td>0</td>\n",
              "      <td>0</td>\n",
              "      <td>0.0</td>\n",
              "      <td>0.0</td>\n",
              "      <td>0.0</td>\n",
              "      <td>0.0</td>\n",
              "      <td>0.0</td>\n",
              "      <td>0.0</td>\n",
              "      <td>0.0</td>\n",
              "      <td>0.0</td>\n",
              "      <td>0.0</td>\n",
              "      <td>0.0</td>\n",
              "      <td>0.0</td>\n",
              "      <td>0.0</td>\n",
              "      <td>273.1315</td>\n",
              "      <td>0.0</td>\n",
              "      <td>0.0</td>\n",
              "      <td>0.0</td>\n",
              "    </tr>\n",
              "    <tr>\n",
              "      <th>4</th>\n",
              "      <td>2014-05-12</td>\n",
              "      <td>4</td>\n",
              "      <td>0.860583</td>\n",
              "      <td>0.138924</td>\n",
              "      <td>0.000492</td>\n",
              "      <td>0.0</td>\n",
              "      <td>0.0</td>\n",
              "      <td>0.0</td>\n",
              "      <td>0</td>\n",
              "      <td>0</td>\n",
              "      <td>0</td>\n",
              "      <td>0.0</td>\n",
              "      <td>0.0</td>\n",
              "      <td>0.0</td>\n",
              "      <td>0.0</td>\n",
              "      <td>0.0</td>\n",
              "      <td>0.0</td>\n",
              "      <td>0.0</td>\n",
              "      <td>0.0</td>\n",
              "      <td>0.0</td>\n",
              "      <td>0.0</td>\n",
              "      <td>0.0</td>\n",
              "      <td>0.0</td>\n",
              "      <td>273.1315</td>\n",
              "      <td>0.0</td>\n",
              "      <td>0.0</td>\n",
              "      <td>0.0</td>\n",
              "    </tr>\n",
              "  </tbody>\n",
              "</table>\n",
              "</div>"
            ],
            "text/plain": [
              "        Date  Days      WSAT      OSAT      GSAT  ...  GPT        PR  GIR  GIT  GOR\n",
              "0 2014-05-08     0  0.860583  0.138924  0.000492  ...  0.0  273.1314  0.0  0.0  0.0\n",
              "1 2014-05-09     1  0.860583  0.138924  0.000492  ...  0.0  273.1314  0.0  0.0  0.0\n",
              "2 2014-05-10     2  0.860583  0.138924  0.000492  ...  0.0  273.1314  0.0  0.0  0.0\n",
              "3 2014-05-11     3  0.860583  0.138924  0.000492  ...  0.0  273.1315  0.0  0.0  0.0\n",
              "4 2014-05-12     4  0.860583  0.138924  0.000492  ...  0.0  273.1315  0.0  0.0  0.0\n",
              "\n",
              "[5 rows x 27 columns]"
            ]
          },
          "metadata": {
            "tags": []
          },
          "execution_count": 5
        }
      ]
    },
    {
      "cell_type": "code",
      "metadata": {
        "id": "PQlJtSN2tOmW",
        "colab_type": "code",
        "outputId": "0e06ac60-a8ed-4a73-a58b-d4f25da1756a",
        "colab": {
          "base_uri": "https://localhost:8080/",
          "height": 300
        }
      },
      "source": [
        "case2.head(5)"
      ],
      "execution_count": 0,
      "outputs": [
        {
          "output_type": "execute_result",
          "data": {
            "text/html": [
              "<div>\n",
              "<style scoped>\n",
              "    .dataframe tbody tr th:only-of-type {\n",
              "        vertical-align: middle;\n",
              "    }\n",
              "\n",
              "    .dataframe tbody tr th {\n",
              "        vertical-align: top;\n",
              "    }\n",
              "\n",
              "    .dataframe thead th {\n",
              "        text-align: right;\n",
              "    }\n",
              "</style>\n",
              "<table border=\"1\" class=\"dataframe\">\n",
              "  <thead>\n",
              "    <tr style=\"text-align: right;\">\n",
              "      <th></th>\n",
              "      <th>Date</th>\n",
              "      <th>Days</th>\n",
              "      <th>WSAT</th>\n",
              "      <th>OSAT</th>\n",
              "      <th>GSAT</th>\n",
              "      <th>GMT</th>\n",
              "      <th>OMR</th>\n",
              "      <th>GMR</th>\n",
              "      <th>GCDI</th>\n",
              "      <th>GCDM</th>\n",
              "      <th>WCD</th>\n",
              "      <th>WGR</th>\n",
              "      <th>WCT</th>\n",
              "      <th>VPR</th>\n",
              "      <th>VPT</th>\n",
              "      <th>VIR</th>\n",
              "      <th>VIT</th>\n",
              "      <th>WPR</th>\n",
              "      <th>OPR</th>\n",
              "      <th>GPR</th>\n",
              "      <th>WPT</th>\n",
              "      <th>OPT</th>\n",
              "      <th>GPT</th>\n",
              "      <th>PR</th>\n",
              "      <th>GIR</th>\n",
              "      <th>GIT</th>\n",
              "      <th>GOR</th>\n",
              "    </tr>\n",
              "  </thead>\n",
              "  <tbody>\n",
              "    <tr>\n",
              "      <th>0</th>\n",
              "      <td>2014-05-08</td>\n",
              "      <td>0</td>\n",
              "      <td>0.860583</td>\n",
              "      <td>0.138924</td>\n",
              "      <td>0.000492</td>\n",
              "      <td>0.0</td>\n",
              "      <td>0.0</td>\n",
              "      <td>0.0</td>\n",
              "      <td>0</td>\n",
              "      <td>0</td>\n",
              "      <td>0</td>\n",
              "      <td>0.0</td>\n",
              "      <td>0.0</td>\n",
              "      <td>0.0</td>\n",
              "      <td>0.0</td>\n",
              "      <td>0.0</td>\n",
              "      <td>0.0</td>\n",
              "      <td>0.0</td>\n",
              "      <td>0.0</td>\n",
              "      <td>0.0</td>\n",
              "      <td>0.0</td>\n",
              "      <td>0.0</td>\n",
              "      <td>0.0</td>\n",
              "      <td>273.1314</td>\n",
              "      <td>0.0</td>\n",
              "      <td>0.0</td>\n",
              "      <td>0.0</td>\n",
              "    </tr>\n",
              "    <tr>\n",
              "      <th>1</th>\n",
              "      <td>2014-05-09</td>\n",
              "      <td>1</td>\n",
              "      <td>0.860583</td>\n",
              "      <td>0.138924</td>\n",
              "      <td>0.000492</td>\n",
              "      <td>0.0</td>\n",
              "      <td>0.0</td>\n",
              "      <td>0.0</td>\n",
              "      <td>0</td>\n",
              "      <td>0</td>\n",
              "      <td>0</td>\n",
              "      <td>0.0</td>\n",
              "      <td>0.0</td>\n",
              "      <td>0.0</td>\n",
              "      <td>0.0</td>\n",
              "      <td>0.0</td>\n",
              "      <td>0.0</td>\n",
              "      <td>0.0</td>\n",
              "      <td>0.0</td>\n",
              "      <td>0.0</td>\n",
              "      <td>0.0</td>\n",
              "      <td>0.0</td>\n",
              "      <td>0.0</td>\n",
              "      <td>273.1314</td>\n",
              "      <td>0.0</td>\n",
              "      <td>0.0</td>\n",
              "      <td>0.0</td>\n",
              "    </tr>\n",
              "    <tr>\n",
              "      <th>2</th>\n",
              "      <td>2014-05-10</td>\n",
              "      <td>2</td>\n",
              "      <td>0.860583</td>\n",
              "      <td>0.138924</td>\n",
              "      <td>0.000492</td>\n",
              "      <td>0.0</td>\n",
              "      <td>0.0</td>\n",
              "      <td>0.0</td>\n",
              "      <td>0</td>\n",
              "      <td>0</td>\n",
              "      <td>0</td>\n",
              "      <td>0.0</td>\n",
              "      <td>0.0</td>\n",
              "      <td>0.0</td>\n",
              "      <td>0.0</td>\n",
              "      <td>0.0</td>\n",
              "      <td>0.0</td>\n",
              "      <td>0.0</td>\n",
              "      <td>0.0</td>\n",
              "      <td>0.0</td>\n",
              "      <td>0.0</td>\n",
              "      <td>0.0</td>\n",
              "      <td>0.0</td>\n",
              "      <td>273.1315</td>\n",
              "      <td>0.0</td>\n",
              "      <td>0.0</td>\n",
              "      <td>0.0</td>\n",
              "    </tr>\n",
              "    <tr>\n",
              "      <th>3</th>\n",
              "      <td>2014-05-11</td>\n",
              "      <td>3</td>\n",
              "      <td>0.860583</td>\n",
              "      <td>0.138924</td>\n",
              "      <td>0.000492</td>\n",
              "      <td>0.0</td>\n",
              "      <td>0.0</td>\n",
              "      <td>0.0</td>\n",
              "      <td>0</td>\n",
              "      <td>0</td>\n",
              "      <td>0</td>\n",
              "      <td>0.0</td>\n",
              "      <td>0.0</td>\n",
              "      <td>0.0</td>\n",
              "      <td>0.0</td>\n",
              "      <td>0.0</td>\n",
              "      <td>0.0</td>\n",
              "      <td>0.0</td>\n",
              "      <td>0.0</td>\n",
              "      <td>0.0</td>\n",
              "      <td>0.0</td>\n",
              "      <td>0.0</td>\n",
              "      <td>0.0</td>\n",
              "      <td>273.1316</td>\n",
              "      <td>0.0</td>\n",
              "      <td>0.0</td>\n",
              "      <td>0.0</td>\n",
              "    </tr>\n",
              "    <tr>\n",
              "      <th>4</th>\n",
              "      <td>2014-05-12</td>\n",
              "      <td>4</td>\n",
              "      <td>0.860583</td>\n",
              "      <td>0.138924</td>\n",
              "      <td>0.000492</td>\n",
              "      <td>0.0</td>\n",
              "      <td>0.0</td>\n",
              "      <td>0.0</td>\n",
              "      <td>0</td>\n",
              "      <td>0</td>\n",
              "      <td>0</td>\n",
              "      <td>0.0</td>\n",
              "      <td>0.0</td>\n",
              "      <td>0.0</td>\n",
              "      <td>0.0</td>\n",
              "      <td>0.0</td>\n",
              "      <td>0.0</td>\n",
              "      <td>0.0</td>\n",
              "      <td>0.0</td>\n",
              "      <td>0.0</td>\n",
              "      <td>0.0</td>\n",
              "      <td>0.0</td>\n",
              "      <td>0.0</td>\n",
              "      <td>273.1316</td>\n",
              "      <td>0.0</td>\n",
              "      <td>0.0</td>\n",
              "      <td>0.0</td>\n",
              "    </tr>\n",
              "  </tbody>\n",
              "</table>\n",
              "</div>"
            ],
            "text/plain": [
              "        Date  Days      WSAT      OSAT      GSAT  ...  GPT        PR  GIR  GIT  GOR\n",
              "0 2014-05-08     0  0.860583  0.138924  0.000492  ...  0.0  273.1314  0.0  0.0  0.0\n",
              "1 2014-05-09     1  0.860583  0.138924  0.000492  ...  0.0  273.1314  0.0  0.0  0.0\n",
              "2 2014-05-10     2  0.860583  0.138924  0.000492  ...  0.0  273.1315  0.0  0.0  0.0\n",
              "3 2014-05-11     3  0.860583  0.138924  0.000492  ...  0.0  273.1316  0.0  0.0  0.0\n",
              "4 2014-05-12     4  0.860583  0.138924  0.000492  ...  0.0  273.1316  0.0  0.0  0.0\n",
              "\n",
              "[5 rows x 27 columns]"
            ]
          },
          "metadata": {
            "tags": []
          },
          "execution_count": 7
        }
      ]
    },
    {
      "cell_type": "code",
      "metadata": {
        "id": "oVi0RN6ltZht",
        "colab_type": "code",
        "colab": {}
      },
      "source": [
        "# convert to Panda datetime\n",
        "date = pd.to_datetime(case1['Date'])\n",
        "\n",
        "# gas production cumulative \n",
        "GPT1 = case1['GPT'] * 35.31 * 1E-06  # convert from m3 to ft3 then to mmscf\n",
        "GPT2 = case2['GPT'] * 35.31 * 1E-06\n",
        "\n",
        "# gas production rate\n",
        "GPR1 = case1['GPR'] * 35.31 * 1E-06\n",
        "GPR2 = case2['GPR'] * 35.31 * 1E-06\n",
        "\n",
        "# average pressure\n",
        "PR1 = case1['PR'] * 14.5038 # convert from bar to psi\n",
        "PR2 = case2['PR'] * 14.5038 "
      ],
      "execution_count": 0,
      "outputs": []
    },
    {
      "cell_type": "code",
      "metadata": {
        "id": "iINky-jcvW8Y",
        "colab_type": "code",
        "outputId": "44231a88-a578-420e-b886-ea7b9d0b372c",
        "colab": {
          "base_uri": "https://localhost:8080/",
          "height": 511
        }
      },
      "source": [
        "# plot gas production and pressure data from 2014-01-01 to 2016-01-01\n",
        "\n",
        "pd.plotting.register_matplotlib_converters()\n",
        "\n",
        "plt.figure(figsize=(12, 7))\n",
        "plt.plot(date, GPR1, color='blue')\n",
        "plt.plot(date, GPR2, color='red')\n",
        "plt.xlabel(\"Date\"); plt.ylabel(\"Cumulative Gas Production (MMscf)\")\n",
        "plt.title(\"Cumulative Gas Production from 01/01/2014 to 01/01/2019\", pad=20, size=15)\n",
        "plt.xlim('2014-01-01', '2019-01-01')\n",
        "# plt.ylim(0, 50000)"
      ],
      "execution_count": 0,
      "outputs": [
        {
          "output_type": "execute_result",
          "data": {
            "text/plain": [
              "(735234.0, 737060.0)"
            ]
          },
          "metadata": {
            "tags": []
          },
          "execution_count": 56
        },
        {
          "output_type": "display_data",
          "data": {
            "image/png": "[encoded data removed]",
            "text/plain": [
              "<Figure size 864x504 with 1 Axes>"
            ]
          },
          "metadata": {
            "tags": []
          }
        }
      ]
    },
    {
      "cell_type": "code",
      "metadata": {
        "id": "thRUErjwzYop",
        "colab_type": "code",
        "outputId": "f13d4b1d-78af-4aa1-fce5-b396732a4458",
        "colab": {
          "base_uri": "https://localhost:8080/",
          "height": 511
        }
      },
      "source": [
        "# plot gas production and pressure data from 2014-01-01 to 2016-01-01\n",
        "\n",
        "pd.plotting.register_matplotlib_converters()\n",
        "\n",
        "fig = plt.figure()\n",
        "fig = plt.figure(figsize=(12,7))\n",
        "host = fig.add_subplot(111)\n",
        "\n",
        "par1 = host.twinx()\n",
        "par2 = host.twinx()\n",
        "\n",
        "host.set_xlabel(\"Year\")\n",
        "host.set_ylabel(\"Cumulative Gas Production (MMscf)\")\n",
        "par1.set_ylabel(\"Gas Production Rate (MMscfd)\")\n",
        "par2.set_ylabel(\"Average Reservoir Pressure (psi)\")\n",
        "\n",
        "host.set_title(\"Historical Production Data of Gundih Field from 2014 to 2019\", pad=20, size=15)\n",
        "\n",
        "color1 = plt.cm.viridis(0)\n",
        "color2 = plt.cm.viridis(.5)\n",
        "color3 = plt.cm.viridis(.8)\n",
        "\n",
        "p1, = host.plot(date, GPR1, color=color1,label=\"Gas production rate (MMscfd)\")\n",
        "p2, = par1.plot(date, GPT1, color=color2, label=\"Cumulative gas production (MMscf)\")\n",
        "p3, = par2.plot(date, PR1, color=color3, label=\"Average Pressure (psi)\")\n",
        "host.set_xlim('2014-05-01', '2019-01-01')\n",
        "host.set_ylim(ymin=0)\n",
        "par1.set_ylim(0, 40000)\n",
        "par2.set_ylim(3400, 4100)\n",
        "\n",
        "lns = [p1, p2, p3]\n",
        "host.legend(handles=lns, loc='best')\n",
        "\n",
        "# right, left, top, bottom\n",
        "par2.spines['right'].set_position(('outward', 60))  \n",
        "\n",
        "plt.savefig('/content/ccs-gundih/result/production_curve')"
      ],
      "execution_count": 0,
      "outputs": [
        {
          "output_type": "display_data",
          "data": {
            "text/plain": [
              "<Figure size 432x288 with 0 Axes>"
            ]
          },
          "metadata": {
            "tags": []
          }
        },
        {
          "output_type": "display_data",
          "data": {
            "image/png": "[encoded data removed]",
            "text/plain": [
              "<Figure size 864x504 with 3 Axes>"
            ]
          },
          "metadata": {
            "tags": []
          }
        }
      ]
    },
    {
      "cell_type": "markdown",
      "metadata": {
        "id": "uAhJUvBBIZfJ",
        "colab_type": "text"
      },
      "source": [
        "# Dry-Gas Reservoir Analysis"
      ]
    },
    {
      "cell_type": "code",
      "metadata": {
        "id": "TjqEFcA2IcUh",
        "colab_type": "code",
        "outputId": "a5a2efd5-bd11-4c15-ea8a-f483abe561f6",
        "colab": {
          "base_uri": "https://localhost:8080/",
          "height": 134
        }
      },
      "source": [
        "!git clone https://github.com/yohanesnuwara/reservoir-engineering"
      ],
      "execution_count": 0,
      "outputs": [
        {
          "output_type": "stream",
          "text": [
            "Cloning into 'reservoir-engineering'...\n",
            "remote: Enumerating objects: 32, done.\u001b[K\n",
            "remote: Counting objects:   3% (1/32)\u001b[K\rremote: Counting objects:   6% (2/32)\u001b[K\rremote: Counting objects:   9% (3/32)\u001b[K\rremote: Counting objects:  12% (4/32)\u001b[K\rremote: Counting objects:  15% (5/32)\u001b[K\rremote: Counting objects:  18% (6/32)\u001b[K\rremote: Counting objects:  21% (7/32)\u001b[K\rremote: Counting objects:  25% (8/32)\u001b[K\rremote: Counting objects:  28% (9/32)\u001b[K\rremote: Counting objects:  31% (10/32)\u001b[K\rremote: Counting objects:  34% (11/32)\u001b[K\rremote: Counting objects:  37% (12/32)\u001b[K\rremote: Counting objects:  40% (13/32)\u001b[K\rremote: Counting objects:  43% (14/32)\u001b[K\rremote: Counting objects:  46% (15/32)\u001b[K\rremote: Counting objects:  50% (16/32)\u001b[K\rremote: Counting objects:  53% (17/32)\u001b[K\rremote: Counting objects:  56% (18/32)\u001b[K\rremote: Counting objects:  59% (19/32)\u001b[K\rremote: Counting objects:  62% (20/32)\u001b[K\rremote: Counting objects:  65% (21/32)\u001b[K\rremote: Counting objects:  68% (22/32)\u001b[K\rremote: Counting objects:  71% (23/32)\u001b[K\rremote: Counting objects:  75% (24/32)\u001b[K\rremote: Counting objects:  78% (25/32)\u001b[K\rremote: Counting objects:  81% (26/32)\u001b[K\rremote: Counting objects:  84% (27/32)\u001b[K\rremote: Counting objects:  87% (28/32)\u001b[K\rremote: Counting objects:  90% (29/32)\u001b[K\rremote: Counting objects:  93% (30/32)\u001b[K\rremote: Counting objects:  96% (31/32)\u001b[K\rremote: Counting objects: 100% (32/32)\u001b[K\rremote: Counting objects: 100% (32/32), done.\u001b[K\n",
            "remote: Compressing objects:   3% (1/31)\u001b[K\rremote: Compressing objects:   6% (2/31)\u001b[K\rremote: Compressing objects:   9% (3/31)\u001b[K\rremote: Compressing objects:  12% (4/31)\u001b[K\rremote: Compressing objects:  16% (5/31)\u001b[K\rremote: Compressing objects:  19% (6/31)\u001b[K\rremote: Compressing objects:  22% (7/31)\u001b[K\rremote: Compressing objects:  25% (8/31)\u001b[K\rremote: Compressing objects:  29% (9/31)\u001b[K\rremote: Compressing objects:  32% (10/31)\u001b[K\rremote: Compressing objects:  35% (11/31)\u001b[K\rremote: Compressing objects:  38% (12/31)\u001b[K\rremote: Compressing objects:  41% (13/31)\u001b[K\rremote: Compressing objects:  45% (14/31)\u001b[K\rremote: Compressing objects:  48% (15/31)\u001b[K\rremote: Compressing objects:  51% (16/31)\u001b[K\rremote: Compressing objects:  54% (17/31)\u001b[K\rremote: Compressing objects:  58% (18/31)\u001b[K\rremote: Compressing objects:  61% (19/31)\u001b[K\rremote: Compressing objects:  64% (20/31)\u001b[K\rremote: Compressing objects:  67% (21/31)\u001b[K\rremote: Compressing objects:  70% (22/31)\u001b[K\rremote: Compressing objects:  74% (23/31)\u001b[K\rremote: Compressing objects:  77% (24/31)\u001b[K\rremote: Compressing objects:  80% (25/31)\u001b[K\rremote: Compressing objects:  83% (26/31)\u001b[K\rremote: Compressing objects:  87% (27/31)\u001b[K\rremote: Compressing objects:  90% (28/31)\u001b[K\rremote: Compressing objects:  93% (29/31)\u001b[K\rremote: Compressing objects:  96% (30/31)\u001b[K\rremote: Compressing objects: 100% (31/31)\u001b[K\rremote: Compressing objects: 100% (31/31), done.\u001b[K\n",
            "Receiving objects:   0% (1/941)   \rReceiving objects:   1% (10/941)   \rReceiving objects:   2% (19/941)   \rReceiving objects:   3% (29/941)   \rReceiving objects:   4% (38/941)   \rReceiving objects:   5% (48/941)   \rReceiving objects:   6% (57/941)   \rReceiving objects:   7% (66/941)   \rReceiving objects:   8% (76/941)   \rReceiving objects:   9% (85/941)   \rReceiving objects:  10% (95/941)   \rReceiving objects:  11% (104/941)   \rReceiving objects:  12% (113/941)   \rReceiving objects:  13% (123/941)   \rReceiving objects:  14% (132/941)   \rReceiving objects:  15% (142/941)   \rReceiving objects:  16% (151/941)   \rReceiving objects:  17% (160/941)   \rReceiving objects:  18% (170/941)   \rReceiving objects:  19% (179/941)   \rReceiving objects:  20% (189/941)   \rReceiving objects:  21% (198/941)   \rReceiving objects:  22% (208/941)   \rReceiving objects:  23% (217/941)   \rReceiving objects:  24% (226/941)   \rReceiving objects:  25% (236/941)   \rReceiving objects:  26% (245/941)   \rReceiving objects:  27% (255/941)   \rReceiving objects:  28% (264/941)   \rReceiving objects:  29% (273/941)   \rReceiving objects:  30% (283/941)   \rReceiving objects:  31% (292/941)   \rReceiving objects:  32% (302/941)   \rReceiving objects:  33% (311/941)   \rReceiving objects:  34% (320/941)   \rReceiving objects:  35% (330/941)   \rReceiving objects:  36% (339/941)   \rReceiving objects:  37% (349/941)   \rReceiving objects:  38% (358/941)   \rReceiving objects:  39% (367/941)   \rReceiving objects:  40% (377/941)   \rReceiving objects:  41% (386/941)   \rReceiving objects:  42% (396/941)   \rReceiving objects:  43% (405/941)   \rReceiving objects:  44% (415/941)   \rReceiving objects:  45% (424/941)   \rReceiving objects:  46% (433/941)   \rReceiving objects:  47% (443/941)   \rReceiving objects:  48% (452/941)   \rReceiving objects:  49% (462/941)   \rReceiving objects:  50% (471/941)   \rReceiving objects:  51% (480/941)   \rReceiving objects:  52% (490/941)   \rReceiving objects:  53% (499/941)   \rReceiving objects:  54% (509/941)   \rReceiving objects:  55% (518/941)   \rReceiving objects:  56% (527/941)   \rReceiving objects:  57% (537/941)   \rReceiving objects:  58% (546/941)   \rReceiving objects:  59% (556/941)   \rReceiving objects:  60% (565/941)   \rReceiving objects:  61% (575/941)   \rReceiving objects:  62% (584/941)   \rReceiving objects:  63% (593/941)   \rReceiving objects:  64% (603/941)   \rReceiving objects:  65% (612/941)   \rReceiving objects:  66% (622/941)   \rReceiving objects:  67% (631/941)   \rReceiving objects:  68% (640/941)   \rReceiving objects:  69% (650/941)   \rReceiving objects:  70% (659/941)   \rReceiving objects:  71% (669/941)   \rReceiving objects:  72% (678/941)   \rReceiving objects:  73% (687/941)   \rReceiving objects:  74% (697/941)   \rReceiving objects:  75% (706/941)   \rReceiving objects:  76% (716/941)   \rReceiving objects:  77% (725/941)   \rReceiving objects:  78% (734/941)   \rReceiving objects:  79% (744/941)   \rReceiving objects:  80% (753/941)   \rReceiving objects:  81% (763/941)   \rReceiving objects:  82% (772/941)   \rReceiving objects:  83% (782/941)   \rReceiving objects:  84% (791/941)   \rReceiving objects:  85% (800/941)   \rReceiving objects:  86% (810/941)   \rReceiving objects:  87% (819/941)   \rReceiving objects:  88% (829/941)   \rReceiving objects:  89% (838/941)   \rReceiving objects:  90% (847/941)   \rReceiving objects:  91% (857/941)   \rReceiving objects:  92% (866/941)   \rReceiving objects:  93% (876/941)   \rReceiving objects:  94% (885/941)   \rReceiving objects:  95% (894/941)   \rReceiving objects:  96% (904/941)   \rReceiving objects:  97% (913/941)   \rReceiving objects:  98% (923/941)   \rremote: Total 941 (delta 15), reused 0 (delta 0), pack-reused 909\u001b[K\n",
            "Receiving objects:  99% (932/941)   \rReceiving objects: 100% (941/941)   \rReceiving objects: 100% (941/941), 12.23 MiB | 45.56 MiB/s, done.\n",
            "Resolving deltas:   0% (0/410)   \rResolving deltas:   1% (5/410)   \rResolving deltas:   3% (16/410)   \rResolving deltas:   6% (26/410)   \rResolving deltas:  16% (69/410)   \rResolving deltas:  18% (75/410)   \rResolving deltas:  20% (85/410)   \rResolving deltas:  27% (113/410)   \rResolving deltas:  35% (147/410)   \rResolving deltas:  41% (170/410)   \rResolving deltas:  61% (252/410)   \rResolving deltas:  63% (261/410)   \rResolving deltas:  67% (276/410)   \rResolving deltas:  68% (280/410)   \rResolving deltas:  69% (285/410)   \rResolving deltas:  71% (292/410)   \rResolving deltas:  72% (296/410)   \rResolving deltas:  73% (300/410)   \rResolving deltas:  74% (304/410)   \rResolving deltas:  75% (311/410)   \rResolving deltas:  76% (313/410)   \rResolving deltas:  77% (317/410)   \rResolving deltas:  78% (320/410)   \rResolving deltas:  79% (324/410)   \rResolving deltas:  83% (342/410)   \rResolving deltas:  84% (345/410)   \rResolving deltas:  85% (352/410)   \rResolving deltas:  86% (353/410)   \rResolving deltas:  87% (357/410)   \rResolving deltas:  88% (362/410)   \rResolving deltas:  89% (368/410)   \rResolving deltas:  90% (371/410)   \rResolving deltas:  91% (375/410)   \rResolving deltas:  92% (380/410)   \rResolving deltas:  93% (382/410)   \rResolving deltas:  94% (386/410)   \rResolving deltas:  95% (390/410)   \rResolving deltas:  96% (397/410)   \rResolving deltas:  97% (398/410)   \rResolving deltas:  98% (402/410)   \rResolving deltas: 100% (410/410)   \rResolving deltas: 100% (410/410), done.\n"
          ],
          "name": "stdout"
        }
      ]
    },
    {
      "cell_type": "code",
      "metadata": {
        "id": "mXx3Yk6zZZWK",
        "colab_type": "code",
        "colab": {}
      },
      "source": [
        "# calculate gas z factor and FVF\n",
        "\n",
        "import os, sys\n",
        "sys.path.append('/content/reservoir-engineering/Unit 2 Review of Rock and Fluid Properties/functions')\n",
        "\n",
        "from pseudoprops import pseudoprops\n",
        "from dranchuk_aboukassem import dranchuk\n",
        "from gasfvf import gasfvf\n",
        "\n",
        "temp_f = (temp * 9/5) + 32 # Rankine\n",
        "pressure = np.array(PR1)\n",
        "\n",
        "z_arr = []\n",
        "Bg_arr = []\n",
        "for i in range(len(pressure)):\n",
        "  P_pr, T_pr = pseudoprops(temp_f, pressure[i], 0.8, 0.00467, 0.23)\n",
        "  rho_pr, z = dranchuk(T_pr, P_pr)\n",
        "  temp_r = temp_f + 459.67 \n",
        "  Bg = 0.0282793 * z * temp_r / pressure[i] # Eq 2.2, temp in Rankine, p in psia\n",
        "  z_arr.append(float(z))\n",
        "  Bg_arr.append(float(Bg))"
      ],
      "execution_count": 0,
      "outputs": []
    },
    {
      "cell_type": "code",
      "metadata": {
        "id": "_ARsp9BWaWeB",
        "colab_type": "code",
        "colab": {
          "base_uri": "https://localhost:8080/",
          "height": 281
        },
        "outputId": "5b1c3768-073b-4295-8ee6-c2bc0fb912b2"
      },
      "source": [
        "Bg_arr = np.array(Bg_arr)\n",
        "F = GPT1 * Bg_arr # MMscf\n",
        "Eg = Bg_arr - Bg_arr[0]\n",
        "F_Eg = F / Eg\n",
        "\n",
        "plt.plot(GPT1, F_Eg, '.')\n",
        "plt.xlim(xmin=0); plt.ylim(ymin=0)"
      ],
      "execution_count": 148,
      "outputs": [
        {
          "output_type": "execute_result",
          "data": {
            "text/plain": [
              "(0, 452765.0949285876)"
            ]
          },
          "metadata": {
            "tags": []
          },
          "execution_count": 148
        },
        {
          "output_type": "display_data",
          "data": {
            "image/png": "[encoded data removed]",
            "text/plain": [
              "<Figure size 432x288 with 1 Axes>"
            ]
          },
          "metadata": {
            "tags": []
          }
        }
      ]
    }
  ]
}