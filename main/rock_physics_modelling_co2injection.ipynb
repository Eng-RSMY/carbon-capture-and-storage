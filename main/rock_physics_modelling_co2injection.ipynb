{
  "nbformat": 4,
  "nbformat_minor": 0,
  "metadata": {
    "colab": {
      "name": "rock-physics-modelling-co2injection.ipynb",
      "provenance": [],
      "collapsed_sections": [],
      "toc_visible": true,
      "include_colab_link": true
    },
    "kernelspec": {
      "name": "python3",
      "display_name": "Python 3"
    }
  },
  "cells": [
    {
      "cell_type": "markdown",
      "metadata": {
        "id": "view-in-github",
        "colab_type": "text"
      },
      "source": [
        "<a href=\"https://colab.research.google.com/github/yohanesnuwara/CO2Inject/blob/master/main/rock_physics_modelling_co2injection.ipynb\" target=\"_parent\"><img src=\"https://colab.research.google.com/assets/colab-badge.svg\" alt=\"Open In Colab\"/></a>"
      ]
    },
    {
      "cell_type": "markdown",
      "metadata": {
        "id": "VXH54VQEHkYt",
        "colab_type": "text"
      },
      "source": [
        "# Rock Physics Modelling of CO2 Injection in Carbonate\n",
        "\n",
        "This notebook runs a rock physics modelling to predict the elastic (seismic) response of a carbonate rock to injected CO2. "
      ]
    },
    {
      "cell_type": "markdown",
      "metadata": {
        "id": "grlB9dSBIsBZ",
        "colab_type": "text"
      },
      "source": [
        "# 1. Setting Up"
      ]
    },
    {
      "cell_type": "code",
      "metadata": {
        "id": "WXExU1okKEvD",
        "colab_type": "code",
        "colab": {}
      },
      "source": [
        "# basic libraries\n",
        "import numpy as np\n",
        "import matplotlib.pyplot as plt"
      ],
      "execution_count": 0,
      "outputs": []
    },
    {
      "cell_type": "markdown",
      "metadata": {
        "id": "kGlWcYKFQVio",
        "colab_type": "text"
      },
      "source": [
        "Clone from my github repository: CO2Inject"
      ]
    },
    {
      "cell_type": "code",
      "metadata": {
        "id": "4ZzhUgTzPJVB",
        "colab_type": "code",
        "outputId": "40abecb9-36f2-47cf-9418-b219435b6b3d",
        "colab": {
          "base_uri": "https://localhost:8080/",
          "height": 122
        }
      },
      "source": [
        "! git clone https://github.com/yohanesnuwara/CO2Inject/"
      ],
      "execution_count": 3,
      "outputs": [
        {
          "output_type": "stream",
          "text": [
            "Cloning into 'CO2Inject'...\n",
            "remote: Enumerating objects: 60, done.\u001b[K\n",
            "remote: Counting objects: 100% (60/60), done.\u001b[K\n",
            "remote: Compressing objects: 100% (55/55), done.\u001b[K\n",
            "remote: Total 60 (delta 23), reused 0 (delta 0), pack-reused 0\u001b[K\n",
            "Unpacking objects: 100% (60/60), done.\n"
          ],
          "name": "stdout"
        }
      ]
    },
    {
      "cell_type": "code",
      "metadata": {
        "id": "FpsKD1jNPh0a",
        "colab_type": "code",
        "colab": {}
      },
      "source": [
        "import sys\n",
        "sys.path.append('./CO2Inject/lib')"
      ],
      "execution_count": 0,
      "outputs": []
    },
    {
      "cell_type": "markdown",
      "metadata": {
        "id": "NAH-EM_wHYx6",
        "colab_type": "text"
      },
      "source": [
        "# 2. Compute Properties of Rock Matrix\n",
        "\n",
        "Properties of rock matrix include: bulk modulus (K), shear modulus (G), and density (rho). "
      ]
    },
    {
      "cell_type": "markdown",
      "metadata": {
        "id": "MYc9KKqQJSdD",
        "colab_type": "text"
      },
      "source": [
        "Input:"
      ]
    },
    {
      "cell_type": "code",
      "metadata": {
        "id": "pZUaM4ZXJzP3",
        "colab_type": "code",
        "colab": {}
      },
      "source": [
        "rhocalc = 2.71; Kcalc = 76.8; Gcalc = 32\n",
        "rhoclay = 2.58; Kclay = 20.9; Gclay = 6.9\n",
        "rhodolo = 2.87; Kdolo = 94.9; Gdolo = 45\n",
        "rhoqtz = 2.65; Kqtz = 36.6; Gqtz = 45\n",
        "# mineral composition\n",
        "calc = 0.4; clay = 0.24; dolo = 0.34; qtz = 0.02"
      ],
      "execution_count": 0,
      "outputs": []
    },
    {
      "cell_type": "markdown",
      "metadata": {
        "id": "CMOYDmE6KdAq",
        "colab_type": "text"
      },
      "source": [
        "Mineral composition (fraction of calcite, clay, dolomite, and quartz) is estimated from petrophysical analysis (rhomaa, dtmaa, umaa crossplot). [See my another notebook](https://). "
      ]
    },
    {
      "cell_type": "markdown",
      "metadata": {
        "id": "pVN4wcM8JuYB",
        "colab_type": "text"
      },
      "source": [
        "Voigt-Reuss-Hill (VRH) computation:"
      ]
    },
    {
      "cell_type": "code",
      "metadata": {
        "id": "eSEN4NnyHGtR",
        "colab_type": "code",
        "outputId": "07d26378-a8c8-4595-ea83-500403a6644d",
        "colab": {
          "base_uri": "https://localhost:8080/",
          "height": 34
        }
      },
      "source": [
        "mincomposition = np.array([calc, clay, dolo, qtz])\n",
        "rhomineral = np.array([rhocalc, rhoclay, rhodolo, rhoqtz])\n",
        "Kmineral = np.array([Kcalc, Kclay, Kdolo, Kqtz])\n",
        "Kmineral_inv = 1 / Kmineral\n",
        "Gmineral = np.array([Gcalc, Gclay, Gdolo, Kqtz])\n",
        "Gmineral_inv = 1 / Gmineral\n",
        "\n",
        "Kv = sum(mincomposition * Kmineral)\n",
        "Kr_inv = sum(mincomposition * Kmineral_inv)\n",
        "Gv = sum(mincomposition * Gmineral)\n",
        "Gr_inv = sum(mincomposition * Gmineral_inv)\n",
        "rhom = sum(mincomposition * rhomineral)\n",
        "Km = (Kv+(1/Kr_inv)) / 2\n",
        "Gm = (Gv+(1/Gr_inv)) / 2\n",
        "Km, Gm, rhom # in GPa"
      ],
      "execution_count": 45,
      "outputs": [
        {
          "output_type": "execute_result",
          "data": {
            "text/plain": [
              "(58.38150053888909, 24.271778274276585, 2.732)"
            ]
          },
          "metadata": {
            "tags": []
          },
          "execution_count": 45
        }
      ]
    },
    {
      "cell_type": "markdown",
      "metadata": {
        "id": "i5_2YMu9MBan",
        "colab_type": "text"
      },
      "source": [
        "# 3. Saturation and Pressure Change"
      ]
    },
    {
      "cell_type": "markdown",
      "metadata": {
        "id": "uNaa6QQrMK1V",
        "colab_type": "text"
      },
      "source": [
        "Pressure is an important information for further rock physics modelling. The case that is presented here is **CO2 injection that lasts for 10 years with rate of 800 ton/day of CO2**. Simulation shows that reservoir pressure declines (blue curve). \n",
        "\n",
        "![alt text](https://drive.google.com/uc?id=1U0oIG4OCQwvQaCUhr1hFb3AuuQ3jEZ5F)"
      ]
    },
    {
      "cell_type": "markdown",
      "metadata": {
        "id": "wU0kIs6uQrf0",
        "colab_type": "text"
      },
      "source": [
        "From simulation, until 10 years, the **maximum CO2 saturation achieves 50%** (high residual water saturation in carbonate system). Pressure declines **from 27.3 MPa to 15.9 MPa**.  "
      ]
    },
    {
      "cell_type": "code",
      "metadata": {
        "id": "MzEesl8qRKpn",
        "colab_type": "code",
        "colab": {}
      },
      "source": [
        "year = [0, 1, 2, 3, 4, 5, 6, 7, 8, 9, 10] # start year is year 0, end year is year 10\n",
        "SW = [1,\t0.95,\t0.9,\t0.85,\t0.8,\t0.75,\t0.7,\t0.65,\t0.6,\t0.55,\t0.5] # water saturation\n",
        "Pp = [27.3,\t26.16,\t25.02,\t23.88,\t22.74,\t21.6,\t20.46,\t19.32,\t18.18,\t17.04,\t15.9] # reservoir pressure"
      ],
      "execution_count": 0,
      "outputs": []
    },
    {
      "cell_type": "markdown",
      "metadata": {
        "id": "dSgrOcm5oYna",
        "colab_type": "text"
      },
      "source": [
        "According to Hiltermann (2000), reduced brine saturation and reduced pore pressure causes decrease in P-velocity."
      ]
    },
    {
      "cell_type": "markdown",
      "metadata": {
        "id": "478UfgUjRvf4",
        "colab_type": "text"
      },
      "source": [
        "# 4. Rock Physics Computation\n",
        "\n",
        "This will compute how much P-velocity (Vp), S-velocity (Vs), and density of carbonate rock change as effect of CO2 injection from year 1 to year 10. "
      ]
    },
    {
      "cell_type": "markdown",
      "metadata": {
        "id": "AvC1zaY6R_Qy",
        "colab_type": "text"
      },
      "source": [
        "\n",
        "Steps:\n",
        "1. Compute **density and bulk modulus of brine** using Batzle and Wang (1992). Using `Batzle_and_Wang.py`. Inputs required: reservoir pressure (P), temperature (T), and brine salinity. Result: brine density and bulk modulus computed for each pressure.\n",
        "\n",
        "2. Compute **density and bulk modulus of CO2** using Span and Wagner (1998). Using `EOS_CO2.py`. Inputs required: reservoir P, T. Result: CO2 density and bulk modulus computed for each pressure.\n",
        "\n",
        "3. Mixing brine and CO2, using **Brie (intermediate patchy) mixing** because of vug porosity. For each composition `Sw` brine and `(1-Sw)` CO2. Result: density and bulk modulus of brine + CO2.\n",
        "\n",
        "**Change of pressure affects change of fluid properties**"
      ]
    },
    {
      "cell_type": "markdown",
      "metadata": {
        "id": "l2iy6hxoWyyl",
        "colab_type": "text"
      },
      "source": [
        "Last step: **Kuster-Toksoz (1974) modelling** \n",
        "\n",
        "To compute Vp, Vs, and density. Using `Kuster_Toksoz_2.py`.\n",
        "Inputs required:\n",
        "\n",
        "\n",
        "1. **Matrix**: matrix bulk modulus (Km), shear modulus (Gm)\n",
        "\n",
        "2. **Fluid**: brine + CO2 bulk modulus (Kf), shear modulus (Gf = 0)\n",
        "\n",
        "3. **Pore**: Pore is pretty complicated, because of pore geometry. Carbonate has various types of pores, so pore types must be determined using Xu and Payne (2009) modelling. [See my another notebook](https://). For this case, the pore types already calculated. \n",
        "\n",
        "![alt text](https://drive.google.com/uc?id=1HkESSk1KEiRCqE3f1vw84ylzfO7wUi7f)"
      ]
    },
    {
      "cell_type": "markdown",
      "metadata": {
        "id": "eSwgY-mjanHg",
        "colab_type": "text"
      },
      "source": [
        "**Effective porosity**: 14%\n",
        "\n",
        "**Pore aspect ratio**: α Reference = 0.15, α Crack = 0.02, α Stiff = 0.8\n",
        "\n",
        "**Pore composition**: 60% Reference + Stiff pore, 40% Reference + Crack pore"
      ]
    },
    {
      "cell_type": "markdown",
      "metadata": {
        "id": "zhR01Iv5S7ty",
        "colab_type": "text"
      },
      "source": [
        "# Implementation:"
      ]
    },
    {
      "cell_type": "markdown",
      "metadata": {
        "id": "P62queX4jcg3",
        "colab_type": "text"
      },
      "source": [
        "Import functions:"
      ]
    },
    {
      "cell_type": "code",
      "metadata": {
        "id": "YGi6vBPzc8mt",
        "colab_type": "code",
        "colab": {}
      },
      "source": [
        "import Batzle_and_Wang\n",
        "import Kuster_Toksoz_2\n",
        "import EOS_CO2\n",
        "from Batzle_and_Wang import BW_brine_density, BW_brine_bulk\n",
        "from Kuster_Toksoz_2 import stuffs, PQ, KusterToksoz\n",
        "from EOS_CO2 import EOS"
      ],
      "execution_count": 0,
      "outputs": []
    },
    {
      "cell_type": "markdown",
      "metadata": {
        "id": "cyIhf9Z2jvDN",
        "colab_type": "text"
      },
      "source": [
        "Input:"
      ]
    },
    {
      "cell_type": "code",
      "metadata": {
        "id": "D-Tiy2n0jwmo",
        "colab_type": "code",
        "colab": {}
      },
      "source": [
        "# fluid input\n",
        "temp = 158 # reservoir temperature\n",
        "salinity = 0.011\n",
        "\n",
        "# Xu-Payne pore\n",
        "totalporo = 0.14\n",
        "\n",
        "alpha1 = 0.15  # aspect ratio of 1st pore\n",
        "alpha2 = 0.8  # aspect ratio of 2nd pore\n",
        "compos1 = 0.6  # composition of 1st pore relative to total poro\n",
        "compos2 = 0.4  # composition of 2nd pore relative to total poro"
      ],
      "execution_count": 0,
      "outputs": []
    },
    {
      "cell_type": "markdown",
      "metadata": {
        "id": "bBptUWTzjit4",
        "colab_type": "text"
      },
      "source": [
        "Run: "
      ]
    },
    {
      "cell_type": "code",
      "metadata": {
        "id": "WG3HzCQwjl40",
        "colab_type": "code",
        "colab": {}
      },
      "source": [
        "CO2_sat = []\n",
        "Vp_sat = []\n",
        "Vs_sat = []\n",
        "rho_sat = []\n",
        "\n",
        "for i in range(len(SW)):\n",
        "    # Step 1. calculation of brine properties\n",
        "    rhobrine = BW_brine_density(temp, Pp[i], salinity)\n",
        "    Kbrine = BW_brine_bulk(temp, Pp[i], salinity, rhobrine)\n",
        "    Gbrine = 0\n",
        "    # result: brine density calculated for each pressure\n",
        "\n",
        "    # Step 2. calculation of CO2 properties\n",
        "    rhoCO2_post = EOS(Pp[i], temp)[0]\n",
        "    KCO2_post = EOS(Pp[i], temp)[1]\n",
        "\n",
        "    # Step 3. calculation of mixed fluid properties, use brie mixing rule\n",
        "    e = 2\n",
        "    SCO2 = 1 - SW[i]\n",
        "    rho_inj = (SCO2 * rhoCO2_post) + (SW[i] * rhobrine)\n",
        "    Kf_inj = ((Kbrine - KCO2_post) * (SW[i] ** e)) + KCO2_post\n",
        "    Gf_inj = 0\n",
        "\n",
        "    # Step 4. calculation of saturated Vp, Vs, rho, use Kuster-Toksoz\n",
        "    stuffs1_inj = stuffs(Km, Kf_inj, Gm, Gf_inj, totalporo, compos1, alpha1)\n",
        "    stuffs2_inj = stuffs(Km, Kf_inj, Gm, Gf_inj, totalporo, compos2, alpha2)\n",
        "\n",
        "    ci_1_inj = stuffs1_inj[4]\n",
        "    ci_2_inj = stuffs2_inj[4]\n",
        "\n",
        "    PQ_1_inj = PQ(stuffs1_inj[0], stuffs1_inj[1], stuffs1_inj[2], stuffs1_inj[5], stuffs1_inj[6])\n",
        "    PQ_2_inj = PQ(stuffs2_inj[0], stuffs2_inj[1], stuffs2_inj[2], stuffs2_inj[5], stuffs2_inj[6])\n",
        "\n",
        "    sigma_P_inj = (ci_1_inj * PQ_1_inj[0]) + (ci_2_inj * PQ_2_inj[0])\n",
        "    sigma_Q_inj = (ci_1_inj * PQ_1_inj[1]) + (ci_2_inj * PQ_2_inj[1])\n",
        "\n",
        "    KusTok_inj = KusterToksoz(sigma_P_inj, sigma_Q_inj, Km, Gm, Kf_inj, rhom, rho_inj)\n",
        "    rho_post = KusTok_inj[2]; Vp_post = KusTok_inj[3] * 1000; Vs_post = KusTok_inj[4] * 1000\n",
        "\n",
        "    SCO2 = SCO2 * 100\n",
        "    CO2_sat.append(float(SCO2))\n",
        "    Vp_sat.append(float(Vp_post))\n",
        "    Vs_sat.append(float(Vs_post))\n",
        "    rho_sat.append(float(rho_post))"
      ],
      "execution_count": 0,
      "outputs": []
    },
    {
      "cell_type": "markdown",
      "metadata": {
        "id": "VQ2ghDbUn9mE",
        "colab_type": "text"
      },
      "source": [
        "Visualize curve of Vp, Vs, and density change as effect of CO2 saturation and declining pressure"
      ]
    },
    {
      "cell_type": "code",
      "metadata": {
        "id": "1NfH_Ew1pVi9",
        "colab_type": "code",
        "colab": {
          "base_uri": "https://localhost:8080/",
          "height": 423
        },
        "outputId": "26011656-1862-4519-85b4-1a47091b6965"
      },
      "source": [
        "plt.figure(figsize=(18,6))\n",
        "plt.subplot(1,3,1)\n",
        "plt.plot(CO2_sat, Vp_sat, color='black')\n",
        "plt.title('P-wave velocity', size=15, pad=15)\n",
        "plt.xlim(0, 50)\n",
        "plt.ylim((min(Vp_sat)-50), (max(Vp_sat)+50))\n",
        "plt.xlabel('CO\\u2082 saturation (%)'); plt.ylabel('P-velocity (m/s)')\n",
        "\n",
        "plt.subplot(1,3,2)\n",
        "plt.plot(CO2_sat, Vs_sat, color='blue')\n",
        "plt.title('S-wave velocity', size=15, pad=15)\n",
        "plt.xlim(0, 50)\n",
        "plt.ylim((min(Vs_sat)-50), (max(Vs_sat)+50))\n",
        "plt.xlabel('CO\\u2082 saturation (%)'); plt.ylabel('S-velocity (m/s)')\n",
        "\n",
        "plt.subplot(1,3,3)\n",
        "plt.plot(CO2_sat, rho_sat, color='red')\n",
        "plt.title('Bulk Density', size=15, pad=15)\n",
        "plt.xlim(0, 50)\n",
        "plt.ylim((min(rho_sat)-0.02), (max(rho_sat)+0.02))\n",
        "plt.xlabel('CO\\u2082 saturation (%)'); plt.ylabel('Density (g/cc)')\n",
        "\n",
        "plt.tight_layout(pad=3)\n",
        "plt.show()"
      ],
      "execution_count": 77,
      "outputs": [
        {
          "output_type": "display_data",
          "data": {
            "image/png": "[encoded data removed]",
            "text/plain": [
              "<Figure size 1296x432 with 3 Axes>"
            ]
          },
          "metadata": {
            "tags": []
          }
        }
      ]
    },
    {
      "cell_type": "markdown",
      "metadata": {
        "id": "OiE1qMTUrNyX",
        "colab_type": "text"
      },
      "source": [
        "**Calculate percent of reduce of Vp, Vs, and density**"
      ]
    },
    {
      "cell_type": "code",
      "metadata": {
        "id": "d6pBAnZIt8WQ",
        "colab_type": "code",
        "colab": {
          "base_uri": "https://localhost:8080/",
          "height": 34
        },
        "outputId": "11e4248a-ee6d-4947-8376-15935b44eaf4"
      },
      "source": [
        "# print(((Vp_sat[0]-min(Vp_sat))/Vp_sat[0]) * 100)\n",
        "# print(((max(Vs_sat)-min(Vs_sat))/min(Vs_sat)) * 100)\n",
        "# print(((max(rho_sat)-min(rho_sat))/max(rho_sat)) * 100)"
      ],
      "execution_count": 74,
      "outputs": [
        {
          "output_type": "execute_result",
          "data": {
            "text/plain": [
              "(4588.277977768951, 4687.599637958713)"
            ]
          },
          "metadata": {
            "tags": []
          },
          "execution_count": 74
        }
      ]
    }
  ]
}