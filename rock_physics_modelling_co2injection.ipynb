{
  "nbformat": 4,
  "nbformat_minor": 0,
  "metadata": {
    "colab": {
      "name": "rock-physics-modelling-co2injection.ipynb",
      "provenance": [],
      "collapsed_sections": [],
      "include_colab_link": true
    },
    "kernelspec": {
      "name": "python3",
      "display_name": "Python 3"
    }
  },
  "cells": [
    {
      "cell_type": "markdown",
      "metadata": {
        "id": "view-in-github",
        "colab_type": "text"
      },
      "source": [
        "<a href=\"https://colab.research.google.com/github/yohanesnuwara/CO2Inject/blob/master/rock_physics_modelling_co2injection.ipynb\" target=\"_parent\"><img src=\"https://colab.research.google.com/assets/colab-badge.svg\" alt=\"Open In Colab\"/></a>"
      ]
    },
    {
      "cell_type": "markdown",
      "metadata": {
        "id": "VXH54VQEHkYt",
        "colab_type": "text"
      },
      "source": [
        "# Rock Physics Modelling of CO2 Injection in Carbonate\n",
        "\n",
        "This notebook runs a rock physics modelling to predict the elastic (seismic) response of a carbonate rock to injected CO2. "
      ]
    },
    {
      "cell_type": "markdown",
      "metadata": {
        "id": "grlB9dSBIsBZ",
        "colab_type": "text"
      },
      "source": [
        "# 1. Setting Up"
      ]
    },
    {
      "cell_type": "code",
      "metadata": {
        "id": "WXExU1okKEvD",
        "colab_type": "code",
        "colab": {}
      },
      "source": [
        "# basic libraries\n",
        "import numpy as np\n",
        "import matplotlib as plt"
      ],
      "execution_count": 0,
      "outputs": []
    },
    {
      "cell_type": "markdown",
      "metadata": {
        "id": "kGlWcYKFQVio",
        "colab_type": "text"
      },
      "source": [
        "Clone from my github repository: CO2Inject"
      ]
    },
    {
      "cell_type": "code",
      "metadata": {
        "id": "4ZzhUgTzPJVB",
        "colab_type": "code",
        "colab": {
          "base_uri": "https://localhost:8080/",
          "height": 122
        },
        "outputId": "0e1efc4a-1b15-45eb-c12e-115ce4b53c45"
      },
      "source": [
        "! git clone https://github.com/yohanesnuwara/CO2Inject/"
      ],
      "execution_count": 15,
      "outputs": [
        {
          "output_type": "stream",
          "text": [
            "Cloning into 'CO2Inject'...\n",
            "remote: Enumerating objects: 53, done.\u001b[K\n",
            "remote: Counting objects:   1% (1/53)\u001b[K\rremote: Counting objects:   3% (2/53)\u001b[K\rremote: Counting objects:   5% (3/53)\u001b[K\rremote: Counting objects:   7% (4/53)\u001b[K\rremote: Counting objects:   9% (5/53)\u001b[K\rremote: Counting objects:  11% (6/53)\u001b[K\rremote: Counting objects:  13% (7/53)\u001b[K\rremote: Counting objects:  15% (8/53)\u001b[K\rremote: Counting objects:  16% (9/53)\u001b[K\rremote: Counting objects:  18% (10/53)\u001b[K\rremote: Counting objects:  20% (11/53)\u001b[K\rremote: Counting objects:  22% (12/53)\u001b[K\rremote: Counting objects:  24% (13/53)\u001b[K\rremote: Counting objects:  26% (14/53)\u001b[K\rremote: Counting objects:  28% (15/53)\u001b[K\rremote: Counting objects:  30% (16/53)\u001b[K\rremote: Counting objects:  32% (17/53)\u001b[K\rremote: Counting objects:  33% (18/53)\u001b[K\rremote: Counting objects:  35% (19/53)\u001b[K\rremote: Counting objects:  37% (20/53)\u001b[K\rremote: Counting objects:  39% (21/53)\u001b[K\rremote: Counting objects:  41% (22/53)\u001b[K\rremote: Counting objects:  43% (23/53)\u001b[K\rremote: Counting objects:  45% (24/53)\u001b[K\rremote: Counting objects:  47% (25/53)\u001b[K\rremote: Counting objects:  49% (26/53)\u001b[K\rremote: Counting objects:  50% (27/53)\u001b[K\rremote: Counting objects:  52% (28/53)\u001b[K\rremote: Counting objects:  54% (29/53)\u001b[K\rremote: Counting objects:  56% (30/53)\u001b[K\rremote: Counting objects:  58% (31/53)\u001b[K\rremote: Counting objects:  60% (32/53)\u001b[K\rremote: Counting objects:  62% (33/53)\u001b[K\rremote: Counting objects:  64% (34/53)\u001b[K\rremote: Counting objects:  66% (35/53)\u001b[K\rremote: Counting objects:  67% (36/53)\u001b[K\rremote: Counting objects:  69% (37/53)\u001b[K\rremote: Counting objects:  71% (38/53)\u001b[K\rremote: Counting objects:  73% (39/53)\u001b[K\rremote: Counting objects:  75% (40/53)\u001b[K\rremote: Counting objects:  77% (41/53)\u001b[K\rremote: Counting objects:  79% (42/53)\u001b[K\rremote: Counting objects:  81% (43/53)\u001b[K\rremote: Counting objects:  83% (44/53)\u001b[K\rremote: Counting objects:  84% (45/53)\u001b[K\rremote: Counting objects:  86% (46/53)\u001b[K\rremote: Counting objects:  88% (47/53)\u001b[K\rremote: Counting objects:  90% (48/53)\u001b[K\rremote: Counting objects:  92% (49/53)\u001b[K\rremote: Counting objects:  94% (50/53)\u001b[K\rremote: Counting objects:  96% (51/53)\u001b[K\rremote: Counting objects:  98% (52/53)\u001b[K\rremote: Counting objects: 100% (53/53)\u001b[K\rremote: Counting objects: 100% (53/53), done.\u001b[K\n",
            "remote: Compressing objects: 100% (48/48), done.\u001b[K\n",
            "remote: Total 53 (delta 19), reused 0 (delta 0), pack-reused 0\u001b[K\n",
            "Unpacking objects: 100% (53/53), done.\n"
          ],
          "name": "stdout"
        }
      ]
    },
    {
      "cell_type": "code",
      "metadata": {
        "id": "FpsKD1jNPh0a",
        "colab_type": "code",
        "colab": {}
      },
      "source": [
        "import Kuster_Toksoz_2"
      ],
      "execution_count": 0,
      "outputs": []
    },
    {
      "cell_type": "markdown",
      "metadata": {
        "id": "NAH-EM_wHYx6",
        "colab_type": "text"
      },
      "source": [
        "# 2. Compute Properties of Rock Matrix\n",
        "\n",
        "Properties of rock matrix include: bulk modulus (K), shear modulus (G), and density (rho). "
      ]
    },
    {
      "cell_type": "markdown",
      "metadata": {
        "id": "MYc9KKqQJSdD",
        "colab_type": "text"
      },
      "source": [
        "Input:"
      ]
    },
    {
      "cell_type": "code",
      "metadata": {
        "id": "pZUaM4ZXJzP3",
        "colab_type": "code",
        "colab": {}
      },
      "source": [
        "rhocalc = 2.71; Kcalc = 76.8; Gcalc = 32\n",
        "rhoclay = 2.58; Kclay = 20.9; Gclay = 6.9\n",
        "rhodolo = 2.87; Kdolo = 94.9; Gdolo = 45\n",
        "rhoqtz = 2.65; Kqtz = 36.6; Gqtz = 45\n",
        "# mineral composition\n",
        "calc = 0.4; clay = 0.24; dolo = 0.34; qtz = 0.02"
      ],
      "execution_count": 0,
      "outputs": []
    },
    {
      "cell_type": "markdown",
      "metadata": {
        "id": "CMOYDmE6KdAq",
        "colab_type": "text"
      },
      "source": [
        "Mineral composition (fraction of calcite, clay, dolomite, and quartz) is estimated from petrophysical analysis (rhomaa, dtmaa, umaa crossplot). [See my another notebook](https://). "
      ]
    },
    {
      "cell_type": "markdown",
      "metadata": {
        "id": "pVN4wcM8JuYB",
        "colab_type": "text"
      },
      "source": [
        "Voigt-Reuss-Hill (VRH) computation:"
      ]
    },
    {
      "cell_type": "code",
      "metadata": {
        "id": "eSEN4NnyHGtR",
        "colab_type": "code",
        "colab": {
          "base_uri": "https://localhost:8080/",
          "height": 34
        },
        "outputId": "6f3b01e3-1538-4485-d99d-e3bd6f0e6a38"
      },
      "source": [
        "mincomposition = np.array([calc, clay, dolo, qtz])\n",
        "rhomineral = np.array([rhocalc, rhoclay, rhodolo, rhoqtz])\n",
        "Kmineral = np.array([Kcalc, Kclay, Kdolo, Kqtz])\n",
        "Kmineral_inv = 1 / Kmineral\n",
        "Gmineral = np.array([Gcalc, Gclay, Gdolo, Kqtz])\n",
        "Gmineral_inv = 1 / Gmineral\n",
        "\n",
        "Kv = sum(mincomposition * Kmineral)\n",
        "Kr_inv = sum(mincomposition * Kmineral_inv)\n",
        "Gv = sum(mincomposition * Gmineral)\n",
        "Gr_inv = sum(mincomposition * Gmineral_inv)\n",
        "Km = (Kv+(1/Kr_inv)) / 2\n",
        "Gm = (Gv+(1/Gr_inv)) / 2\n",
        "Km, Gm # in GPa"
      ],
      "execution_count": 13,
      "outputs": [
        {
          "output_type": "execute_result",
          "data": {
            "text/plain": [
              "(58.38150053888909, 24.271778274276585)"
            ]
          },
          "metadata": {
            "tags": []
          },
          "execution_count": 13
        }
      ]
    },
    {
      "cell_type": "markdown",
      "metadata": {
        "id": "i5_2YMu9MBan",
        "colab_type": "text"
      },
      "source": [
        "# 3. Saturation and Pressure Change"
      ]
    },
    {
      "cell_type": "markdown",
      "metadata": {
        "id": "uNaa6QQrMK1V",
        "colab_type": "text"
      },
      "source": [
        "Pressure is an important information for further rock physics modelling. The case that is presented here is **CO2 injection that lasts for 10 years with rate of 800 ton/day of CO2**. Simulation shows that reservoir pressure declines (blue curve). \n",
        "\n",
        "![alt text](https://drive.google.com/uc?id=1U0oIG4OCQwvQaCUhr1hFb3AuuQ3jEZ5F)"
      ]
    },
    {
      "cell_type": "markdown",
      "metadata": {
        "id": "wU0kIs6uQrf0",
        "colab_type": "text"
      },
      "source": [
        "From simulation, until 10 years, the **maximum CO2 saturation achieves 50%** (high residual water saturation in carbonate system). Pressure declines **from 27.3 MPa to 15.9 MPa**.  "
      ]
    },
    {
      "cell_type": "code",
      "metadata": {
        "id": "MzEesl8qRKpn",
        "colab_type": "code",
        "colab": {}
      },
      "source": [
        "year = [1, 2, 3, 4, 5, 6, 7, 8, 9, 10]\n",
        "SW = [1,\t0.95,\t0.9,\t0.85,\t0.8,\t0.75,\t0.7,\t0.65,\t0.6,\t0.55,\t0.5] # water saturation\n",
        "Pp = [27.3,\t26.16,\t25.02,\t23.88,\t22.74,\t21.6,\t20.46,\t19.32,\t18.18,\t17.04,\t15.9] # reservoir pressure"
      ],
      "execution_count": 0,
      "outputs": []
    },
    {
      "cell_type": "markdown",
      "metadata": {
        "id": "478UfgUjRvf4",
        "colab_type": "text"
      },
      "source": [
        "# 4. Rock Physics Computation\n",
        "\n",
        "This will compute how much P-velocity (Vp), S-velocity (Vs), and density of carbonate rock change as effect of CO2 injection from year 1 to year 10. "
      ]
    },
    {
      "cell_type": "markdown",
      "metadata": {
        "id": "AvC1zaY6R_Qy",
        "colab_type": "text"
      },
      "source": [
        "\n",
        "Steps:\n",
        "1. Compute **density and bulk modulus of brine** using Batzle and Wang (1992). Using `Batzle_and_Wang`. Inputs required: reservoir pressure (P), temperature (T), and brine salinity. Result: brine density and bulk modulus computed for each pressure.\n",
        "\n",
        "2. Compute **density and bulk modulus of CO2** using Span and Wagner (1998). Using `EOS_CO2`. Inputs required: reservoir P, T. Result: CO2 density and bulk modulus computed for each pressure.\n",
        "\n",
        "3. Mixing brine and CO2, using **Brie (intermediate patchy) mixing** because of vug porosity. For each composition `Sw` brine and `(1-Sw)` CO2. Result: density and bulk modulus of brine + CO2\n",
        "\n",
        "4. **Kuster-Toksoz (1974) modelling** to compute Vp, Vs, and density. "
      ]
    },
    {
      "cell_type": "markdown",
      "metadata": {
        "id": "zhR01Iv5S7ty",
        "colab_type": "text"
      },
      "source": [
        "The implementation is as follows: "
      ]
    }
  ]
}